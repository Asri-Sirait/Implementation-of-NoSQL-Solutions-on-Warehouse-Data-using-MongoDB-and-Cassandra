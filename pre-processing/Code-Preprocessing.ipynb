{
 "cells": [
  {
   "cell_type": "code",
   "execution_count": 1,
   "id": "f573527e",
   "metadata": {},
   "outputs": [],
   "source": [
    "# Import library yang diperlukan\n",
    "import pandas as pd\n",
    "import seaborn as sns\n",
    "import matplotlib.pyplot as plt\n",
    "\n",
    "# Load dataset\n",
    "file_path = \"Warehouse_and_Retail_Sales.csv\"  # Sesuaikan dengan path file\n",
    "df = pd.read_csv(file_path)"
   ]
  },
  {
   "cell_type": "code",
   "execution_count": 2,
   "id": "27f56ae5",
   "metadata": {},
   "outputs": [
    {
     "name": "stdout",
     "output_type": "stream",
     "text": [
      "<class 'pandas.core.frame.DataFrame'>\n",
      "RangeIndex: 307645 entries, 0 to 307644\n",
      "Data columns (total 9 columns):\n",
      " #   Column            Non-Null Count   Dtype  \n",
      "---  ------            --------------   -----  \n",
      " 0   YEAR              307645 non-null  int64  \n",
      " 1   MONTH             307645 non-null  int64  \n",
      " 2   SUPPLIER          307478 non-null  object \n",
      " 3   ITEM CODE         307645 non-null  object \n",
      " 4   ITEM DESCRIPTION  307645 non-null  object \n",
      " 5   ITEM TYPE         307644 non-null  object \n",
      " 6   RETAIL SALES      307642 non-null  float64\n",
      " 7   RETAIL TRANSFERS  307645 non-null  float64\n",
      " 8   WAREHOUSE SALES   307645 non-null  float64\n",
      "dtypes: float64(3), int64(2), object(4)\n",
      "memory usage: 21.1+ MB\n",
      "Kolom kategorikal: ['SUPPLIER', 'ITEM CODE', 'ITEM DESCRIPTION', 'ITEM TYPE']\n"
     ]
    }
   ],
   "source": [
    "# Melihat tipe data, jumlah non-null, dan memory usage dari setiap kolom\n",
    "df.info()\n",
    "\n",
    "# Menentukan kolom-kolom yang bertipe data kategorikal (object atau category)\n",
    "categorical_cols = df.select_dtypes(include=['object', 'category']).columns.tolist()\n",
    "\n",
    "# Menampilkan nama-nama kolom kategorikal\n",
    "print(\"Kolom kategorikal:\", categorical_cols)"
   ]
  },
  {
   "cell_type": "code",
   "execution_count": 3,
   "id": "60a63728",
   "metadata": {},
   "outputs": [
    {
     "data": {
      "text/html": [
       "<div>\n",
       "<style scoped>\n",
       "    .dataframe tbody tr th:only-of-type {\n",
       "        vertical-align: middle;\n",
       "    }\n",
       "\n",
       "    .dataframe tbody tr th {\n",
       "        vertical-align: top;\n",
       "    }\n",
       "\n",
       "    .dataframe thead th {\n",
       "        text-align: right;\n",
       "    }\n",
       "</style>\n",
       "<table border=\"1\" class=\"dataframe\">\n",
       "  <thead>\n",
       "    <tr style=\"text-align: right;\">\n",
       "      <th></th>\n",
       "      <th>YEAR</th>\n",
       "      <th>MONTH</th>\n",
       "      <th>SUPPLIER</th>\n",
       "      <th>ITEM CODE</th>\n",
       "      <th>ITEM DESCRIPTION</th>\n",
       "      <th>ITEM TYPE</th>\n",
       "      <th>RETAIL SALES</th>\n",
       "      <th>RETAIL TRANSFERS</th>\n",
       "      <th>WAREHOUSE SALES</th>\n",
       "    </tr>\n",
       "  </thead>\n",
       "  <tbody>\n",
       "    <tr>\n",
       "      <th>0</th>\n",
       "      <td>2020</td>\n",
       "      <td>1</td>\n",
       "      <td>REPUBLIC NATIONAL DISTRIBUTING CO</td>\n",
       "      <td>100009</td>\n",
       "      <td>BOOTLEG RED - 750ML</td>\n",
       "      <td>WINE</td>\n",
       "      <td>0.00</td>\n",
       "      <td>0.0</td>\n",
       "      <td>2.0</td>\n",
       "    </tr>\n",
       "    <tr>\n",
       "      <th>1</th>\n",
       "      <td>2020</td>\n",
       "      <td>1</td>\n",
       "      <td>PWSWN INC</td>\n",
       "      <td>100024</td>\n",
       "      <td>MOMENT DE PLAISIR - 750ML</td>\n",
       "      <td>WINE</td>\n",
       "      <td>0.00</td>\n",
       "      <td>1.0</td>\n",
       "      <td>4.0</td>\n",
       "    </tr>\n",
       "    <tr>\n",
       "      <th>2</th>\n",
       "      <td>2020</td>\n",
       "      <td>1</td>\n",
       "      <td>RELIABLE CHURCHILL LLLP</td>\n",
       "      <td>1001</td>\n",
       "      <td>S SMITH ORGANIC PEAR CIDER - 18.7OZ</td>\n",
       "      <td>BEER</td>\n",
       "      <td>0.00</td>\n",
       "      <td>0.0</td>\n",
       "      <td>1.0</td>\n",
       "    </tr>\n",
       "    <tr>\n",
       "      <th>3</th>\n",
       "      <td>2020</td>\n",
       "      <td>1</td>\n",
       "      <td>LANTERNA DISTRIBUTORS INC</td>\n",
       "      <td>100145</td>\n",
       "      <td>SCHLINK HAUS KABINETT - 750ML</td>\n",
       "      <td>WINE</td>\n",
       "      <td>0.00</td>\n",
       "      <td>0.0</td>\n",
       "      <td>1.0</td>\n",
       "    </tr>\n",
       "    <tr>\n",
       "      <th>4</th>\n",
       "      <td>2020</td>\n",
       "      <td>1</td>\n",
       "      <td>DIONYSOS IMPORTS INC</td>\n",
       "      <td>100293</td>\n",
       "      <td>SANTORINI GAVALA WHITE - 750ML</td>\n",
       "      <td>WINE</td>\n",
       "      <td>0.82</td>\n",
       "      <td>0.0</td>\n",
       "      <td>0.0</td>\n",
       "    </tr>\n",
       "  </tbody>\n",
       "</table>\n",
       "</div>"
      ],
      "text/plain": [
       "   YEAR  MONTH                           SUPPLIER ITEM CODE  \\\n",
       "0  2020      1  REPUBLIC NATIONAL DISTRIBUTING CO    100009   \n",
       "1  2020      1                          PWSWN INC    100024   \n",
       "2  2020      1            RELIABLE CHURCHILL LLLP      1001   \n",
       "3  2020      1          LANTERNA DISTRIBUTORS INC    100145   \n",
       "4  2020      1               DIONYSOS IMPORTS INC    100293   \n",
       "\n",
       "                      ITEM DESCRIPTION ITEM TYPE  RETAIL SALES  \\\n",
       "0                  BOOTLEG RED - 750ML      WINE          0.00   \n",
       "1            MOMENT DE PLAISIR - 750ML      WINE          0.00   \n",
       "2  S SMITH ORGANIC PEAR CIDER - 18.7OZ      BEER          0.00   \n",
       "3        SCHLINK HAUS KABINETT - 750ML      WINE          0.00   \n",
       "4       SANTORINI GAVALA WHITE - 750ML      WINE          0.82   \n",
       "\n",
       "   RETAIL TRANSFERS  WAREHOUSE SALES  \n",
       "0               0.0              2.0  \n",
       "1               1.0              4.0  \n",
       "2               0.0              1.0  \n",
       "3               0.0              1.0  \n",
       "4               0.0              0.0  "
      ]
     },
     "execution_count": 3,
     "metadata": {},
     "output_type": "execute_result"
    }
   ],
   "source": [
    " # Menampilkan 5 baris pertama dari dataset untuk melihat isi data secara umum\n",
    "df.head()"
   ]
  },
  {
   "cell_type": "code",
   "execution_count": 4,
   "id": "93f70eba",
   "metadata": {},
   "outputs": [
    {
     "name": "stdout",
     "output_type": "stream",
     "text": [
      "Kolom kategorikal: Index(['SUPPLIER', 'ITEM CODE', 'ITEM DESCRIPTION', 'ITEM TYPE'], dtype='object')\n"
     ]
    }
   ],
   "source": [
    "# Memilih semua kolom dari DataFrame df yang bertipe 'object' (biasanya data kategorikal seperti string)\n",
    "categorical_cols = df.select_dtypes(include='object').columns\n",
    "\n",
    "# Menampilkan nama-nama kolom kategorikal yang ditemukan\n",
    "print(\"Kolom kategorikal:\", categorical_cols)"
   ]
  },
  {
   "cell_type": "code",
   "execution_count": 5,
   "id": "582fa844",
   "metadata": {},
   "outputs": [
    {
     "name": "stdout",
     "output_type": "stream",
     "text": [
      "{'YEAR': 'Diskrit', 'MONTH': 'Diskrit', 'SUPPLIER': 'Nominal', 'ITEM CODE': 'Nominal', 'ITEM DESCRIPTION': 'Nominal', 'ITEM TYPE': 'Nominal', 'RETAIL SALES': 'Continous', 'RETAIL TRANSFERS': 'Continous', 'WAREHOUSE SALES': 'Continous'}\n"
     ]
    }
   ],
   "source": [
    "# Membuat dictionary untuk mengklasifikasikan jenis data tiap kolom dalam dataset\n",
    "# Tujuannya adalah mengidentifikasi apakah kolom tersebut termasuk data nominal, ordinal, diskrit, atau kontinu\n",
    "kategori = {\n",
    "    'YEAR': 'Diskrit',               # Tahun (bilangan bulat)\n",
    "    'MONTH': 'Diskrit',              # Bulan (bilangan bulat, 1–12)\n",
    "    'SUPPLIER': 'Nominal',           # Nama pemasok, berupa teks tanpa urutan\n",
    "    'ITEM CODE': 'Nominal',          # Kode produk, unik tapi tidak berurutan\n",
    "    'ITEM DESCRIPTION': 'Nominal',   # Deskripsi produk, berupa teks\n",
    "    'ITEM TYPE': 'Nominal',          # Tipe produk (WINE, BEER, dll), kategori\n",
    "    'RETAIL SALES': 'Continous',     # Penjualan retail, bisa berupa desimal\n",
    "    'RETAIL TRANSFERS': 'Continous', # Transfer antar retail, desimal\n",
    "    'WAREHOUSE SALES': 'Continous'   # Penjualan dari gudang, desimal\n",
    "}\n",
    "\n",
    "# Menampilkan isi dari dictionary kategori\n",
    "print(kategori)"
   ]
  },
  {
   "cell_type": "markdown",
   "id": "503b2f88",
   "metadata": {},
   "source": [
    "## Preprocessing"
   ]
  },
  {
   "cell_type": "code",
   "execution_count": 6,
   "id": "07c4eefb",
   "metadata": {},
   "outputs": [
    {
     "name": "stdout",
     "output_type": "stream",
     "text": [
      "Index(['YEAR', 'MONTH', 'SUPPLIER', 'ITEM CODE', 'ITEM DESCRIPTION',\n",
      "       'ITEM TYPE', 'RETAIL SALES', 'RETAIL TRANSFERS', 'WAREHOUSE SALES'],\n",
      "      dtype='object')\n"
     ]
    }
   ],
   "source": [
    "# Menampilkan semua nama kolom yang ada di dalam DataFrame\n",
    "print(df.columns)"
   ]
  },
  {
   "cell_type": "code",
   "execution_count": 8,
   "id": "a83d7b7f-8dcc-4d4f-9a7f-635345cf628e",
   "metadata": {},
   "outputs": [
    {
     "data": {
      "text/plain": [
       "YEAR                  0\n",
       "MONTH                 0\n",
       "SUPPLIER            167\n",
       "ITEM CODE             0\n",
       "ITEM DESCRIPTION      0\n",
       "ITEM TYPE             1\n",
       "RETAIL SALES          3\n",
       "RETAIL TRANSFERS      0\n",
       "WAREHOUSE SALES       0\n",
       "dtype: int64"
      ]
     },
     "execution_count": 8,
     "metadata": {},
     "output_type": "execute_result"
    }
   ],
   "source": [
    "df.isnull().sum()"
   ]
  },
  {
   "cell_type": "code",
   "execution_count": 9,
   "id": "bcb94aa1",
   "metadata": {},
   "outputs": [
    {
     "data": {
      "text/plain": [
       "0"
      ]
     },
     "execution_count": 9,
     "metadata": {},
     "output_type": "execute_result"
    }
   ],
   "source": [
    "# Cek apakah ada data duplikat\n",
    "df.duplicated().sum()"
   ]
  },
  {
   "cell_type": "code",
   "execution_count": 11,
   "id": "f8367aa9-21fd-4784-989a-90f909da910d",
   "metadata": {},
   "outputs": [
    {
     "name": "stdout",
     "output_type": "stream",
     "text": [
      "        YEAR  MONTH SUPPLIER ITEM CODE           ITEM DESCRIPTION  \\\n",
      "107     2020      1      NaN       107  JIGGER MEASURE SHOT GLASS   \n",
      "189     2020      1      NaN       113     BARTENDERS BLACK  BOOK   \n",
      "233     2020      1      NaN       115    PLASTIC SHOT GLASS PACK   \n",
      "254     2020      1      NaN       117    WHISKEY TASTING JOURNAL   \n",
      "263     2020      1      NaN       118    PLASTIC WINE GLASS PACK   \n",
      "...      ...    ...      ...       ...                        ...   \n",
      "307193  2020      9      NaN         4                   RMS ITEM   \n",
      "307259  2020      9      NaN       118    PLASTIC WINE GLASS PACK   \n",
      "307304  2020      9      NaN       107  JIGGER MEASURE SHOT GLASS   \n",
      "307601  2020      9      NaN        WC                WINE CREDIT   \n",
      "307605  2020      9      NaN       115    PLASTIC SHOT GLASS PACK   \n",
      "\n",
      "           ITEM TYPE  RETAIL SALES  RETAIL TRANSFERS  WAREHOUSE SALES  \n",
      "107     STR_SUPPLIES         14.69              18.0              0.0  \n",
      "189     STR_SUPPLIES          0.40               0.0              0.0  \n",
      "233     STR_SUPPLIES          5.71               6.0              0.0  \n",
      "254     STR_SUPPLIES          0.08               0.0              0.0  \n",
      "263     STR_SUPPLIES          7.40              10.0              0.0  \n",
      "...              ...           ...               ...              ...  \n",
      "307193   NON-ALCOHOL           NaN               0.0              0.0  \n",
      "307259  STR_SUPPLIES          5.20               0.0              0.0  \n",
      "307304  STR_SUPPLIES          8.62              16.0              0.0  \n",
      "307601           REF          0.00               0.0            -70.0  \n",
      "307605  STR_SUPPLIES          4.21               6.0              0.0  \n",
      "\n",
      "[168 rows x 9 columns]\n"
     ]
    }
   ],
   "source": [
    "# Menampilkan baris yang memiliki nilai null pada semua kolom\n",
    "print(df[df.isnull().any(axis=1)])"
   ]
  },
  {
   "cell_type": "code",
   "execution_count": 12,
   "id": "403cc072-b838-4618-8b6c-94b73719e0af",
   "metadata": {},
   "outputs": [
    {
     "name": "stdout",
     "output_type": "stream",
     "text": [
      "        YEAR  MONTH                           SUPPLIER ITEM CODE  \\\n",
      "105297  2017     10  REPUBLIC NATIONAL DISTRIBUTING CO    347939   \n",
      "\n",
      "                                ITEM DESCRIPTION ITEM TYPE  RETAIL SALES  \\\n",
      "105297  FONTANAFREDDA BAROLO SILVER LABEL 750 ML       NaN           0.0   \n",
      "\n",
      "        RETAIL TRANSFERS  WAREHOUSE SALES  \n",
      "105297               0.0              1.0  \n"
     ]
    }
   ],
   "source": [
    "# Menampilkan baris yang memiliki nilai null di kolom ITEM TYPE\n",
    "print(df[df['ITEM TYPE'].isnull()])"
   ]
  },
  {
   "cell_type": "code",
   "execution_count": 13,
   "id": "8e6fe541-4671-440f-bda4-64d7e159c094",
   "metadata": {},
   "outputs": [],
   "source": [
    "df.loc[:, 'ITEM TYPE'] = df['ITEM TYPE'].fillna(\"Wine\")  # Isi dengan \"Wine\""
   ]
  },
  {
   "cell_type": "code",
   "execution_count": 14,
   "id": "7477b34a-e79f-453f-b9fb-99fc9527ab55",
   "metadata": {},
   "outputs": [
    {
     "name": "stdout",
     "output_type": "stream",
     "text": [
      "        YEAR  MONTH SUPPLIER ITEM CODE           ITEM DESCRIPTION  \\\n",
      "107     2020      1      NaN       107  JIGGER MEASURE SHOT GLASS   \n",
      "189     2020      1      NaN       113     BARTENDERS BLACK  BOOK   \n",
      "233     2020      1      NaN       115    PLASTIC SHOT GLASS PACK   \n",
      "254     2020      1      NaN       117    WHISKEY TASTING JOURNAL   \n",
      "263     2020      1      NaN       118    PLASTIC WINE GLASS PACK   \n",
      "...      ...    ...      ...       ...                        ...   \n",
      "307193  2020      9      NaN         4                   RMS ITEM   \n",
      "307259  2020      9      NaN       118    PLASTIC WINE GLASS PACK   \n",
      "307304  2020      9      NaN       107  JIGGER MEASURE SHOT GLASS   \n",
      "307601  2020      9      NaN        WC                WINE CREDIT   \n",
      "307605  2020      9      NaN       115    PLASTIC SHOT GLASS PACK   \n",
      "\n",
      "           ITEM TYPE  RETAIL SALES  RETAIL TRANSFERS  WAREHOUSE SALES  \n",
      "107     STR_SUPPLIES         14.69              18.0              0.0  \n",
      "189     STR_SUPPLIES          0.40               0.0              0.0  \n",
      "233     STR_SUPPLIES          5.71               6.0              0.0  \n",
      "254     STR_SUPPLIES          0.08               0.0              0.0  \n",
      "263     STR_SUPPLIES          7.40              10.0              0.0  \n",
      "...              ...           ...               ...              ...  \n",
      "307193   NON-ALCOHOL           NaN               0.0              0.0  \n",
      "307259  STR_SUPPLIES          5.20               0.0              0.0  \n",
      "307304  STR_SUPPLIES          8.62              16.0              0.0  \n",
      "307601           REF          0.00               0.0            -70.0  \n",
      "307605  STR_SUPPLIES          4.21               6.0              0.0  \n",
      "\n",
      "[167 rows x 9 columns]\n"
     ]
    }
   ],
   "source": [
    "print(df[df['SUPPLIER'].isnull()])"
   ]
  },
  {
   "cell_type": "code",
   "execution_count": 15,
   "id": "31bb55e3-c6f7-4103-a0fb-fa6f58fdee9f",
   "metadata": {},
   "outputs": [
    {
     "name": "stdout",
     "output_type": "stream",
     "text": [
      "Daftar unik ITEM CODE untuk SUPPLIER yang kosong:\n",
      "['107' '113' '115' '117' '118' '119' '120' '123' '1279' '2' 'BC' 'WC' '4'\n",
      " '116' '600' '3']\n"
     ]
    }
   ],
   "source": [
    "# Menampilkan daftar unik ITEM CODE dari baris di mana SUPPLIER kosong\n",
    "unique_item_codes = df[df['SUPPLIER'].isnull()]['ITEM CODE'].unique()\n",
    "\n",
    "# Menampilkan hasil\n",
    "print(\"Daftar unik ITEM CODE untuk SUPPLIER yang kosong:\")\n",
    "print(unique_item_codes)"
   ]
  },
  {
   "cell_type": "code",
   "execution_count": 16,
   "id": "0321b112-2899-4673-8183-ea6b67919184",
   "metadata": {},
   "outputs": [
    {
     "name": "stdout",
     "output_type": "stream",
     "text": [
      "107       JIGGER MEASURE SHOT GLASS\n",
      "189          BARTENDERS BLACK  BOOK\n",
      "233         PLASTIC SHOT GLASS PACK\n",
      "254         WHISKEY TASTING JOURNAL\n",
      "263         PLASTIC WINE GLASS PACK\n",
      "                    ...            \n",
      "307193                     RMS ITEM\n",
      "307259      PLASTIC WINE GLASS PACK\n",
      "307304    JIGGER MEASURE SHOT GLASS\n",
      "307601                  WINE CREDIT\n",
      "307605      PLASTIC SHOT GLASS PACK\n",
      "Name: ITEM DESCRIPTION, Length: 167, dtype: object\n"
     ]
    }
   ],
   "source": [
    "# Menampilkan ITEM DESCRIPTION dari baris yang SUPPLIER-nya kosong\n",
    "print(df[df['SUPPLIER'].isna()]['ITEM DESCRIPTION'])"
   ]
  },
  {
   "cell_type": "code",
   "execution_count": 17,
   "id": "b64bb344-428a-4551-a7c6-a41d5ee61823",
   "metadata": {},
   "outputs": [
    {
     "name": "stdout",
     "output_type": "stream",
     "text": [
      "['JIGGER MEASURE SHOT GLASS' 'BARTENDERS BLACK  BOOK'\n",
      " 'PLASTIC SHOT GLASS PACK' 'WHISKEY TASTING JOURNAL'\n",
      " 'PLASTIC WINE GLASS PACK' 'BRUMATE WINE TUMBLER' 'WHISKEY BARREL'\n",
      " 'HOLIDAY TOTE FOIL BAG' 'EMPTY WINE KEG - KEGS' 'ICE' 'BEER CREDIT'\n",
      " 'WINE CREDIT' 'RMS ITEM' 'WHISKEY TASTING KIT' 'ISTORE TRAINING OVERVIEW'\n",
      " 'COUPON']\n"
     ]
    }
   ],
   "source": [
    "print(df[df['SUPPLIER'].isna()]['ITEM DESCRIPTION'].unique())"
   ]
  },
  {
   "cell_type": "code",
   "execution_count": 18,
   "id": "31545d63-973a-4a98-8555-7906921794cd",
   "metadata": {},
   "outputs": [],
   "source": [
    "df.loc[:, 'SUPPLIER'] = df['SUPPLIER'].fillna(df['SUPPLIER'].mode()[0])  # Isi dengan modus"
   ]
  },
  {
   "cell_type": "code",
   "execution_count": 19,
   "id": "213e8637-8e82-496c-8231-15f98b560b99",
   "metadata": {},
   "outputs": [
    {
     "name": "stdout",
     "output_type": "stream",
     "text": [
      "                            SUPPLIER\n",
      "0  REPUBLIC NATIONAL DISTRIBUTING CO\n",
      "1                          PWSWN INC\n",
      "2            RELIABLE CHURCHILL LLLP\n",
      "3          LANTERNA DISTRIBUTORS INC\n",
      "4               DIONYSOS IMPORTS INC\n",
      "5            KYSELA PERE ET FILS LTD\n",
      "6           SANTA MARGHERITA USA INC\n",
      "7   BROWN-FORMAN BEVERAGES WORLDWIDE\n",
      "8                 JIM BEAM BRANDS CO\n",
      "9          INTERNATIONAL CELLARS LLC\n"
     ]
    }
   ],
   "source": [
    "print(df[['SUPPLIER']].head(10))  # Menampilkan 10 baris pertama kolom SUPPLIER"
   ]
  },
  {
   "cell_type": "code",
   "execution_count": 20,
   "id": "e0cb95dc-77f2-47ec-95ed-ba8678a2b25f",
   "metadata": {},
   "outputs": [],
   "source": [
    "df.loc[:, 'RETAIL SALES'] = df['RETAIL SALES'].fillna(df['RETAIL SALES'].median())  # Isi dengan median"
   ]
  },
  {
   "cell_type": "code",
   "execution_count": 21,
   "id": "99e808fe-b5aa-483f-b3d6-01aab216b03e",
   "metadata": {},
   "outputs": [
    {
     "name": "stdout",
     "output_type": "stream",
     "text": [
      "[  0.     0.82   2.76 ... 163.72  65.43 372.45]\n"
     ]
    }
   ],
   "source": [
    "# Menampilkan nilai unik setelah pengisian\n",
    "print(df['RETAIL SALES'].unique())"
   ]
  },
  {
   "cell_type": "markdown",
   "id": "6a7346c1",
   "metadata": {},
   "source": [
    "## Encoding Data Kategorikal"
   ]
  },
  {
   "cell_type": "code",
   "execution_count": 28,
   "id": "e41d64a1-df8d-46e4-bc2a-be76f365b472",
   "metadata": {},
   "outputs": [],
   "source": [
    "# 💬 Mengimpor class LabelEncoder dari scikit-learn untuk mengubah data kategorikal menjadi data numerik\n",
    "from sklearn.preprocessing import LabelEncoder\n",
    "\n",
    "# 5. Label Encoding untuk ITEM CODE\n",
    "le_item_code = LabelEncoder()\n",
    "df.loc[:, 'ITEM CODE'] = le_item_code.fit_transform(df['ITEM CODE'].astype(str))"
   ]
  },
  {
   "cell_type": "code",
   "execution_count": 31,
   "id": "3ca6ee4c-20cc-4595-a3b2-77a9fbe17680",
   "metadata": {},
   "outputs": [],
   "source": [
    "# 6. Label Encoding untuk ITEM DESCRIPTION\n",
    "le_item_desc = LabelEncoder()\n",
    "df.loc[:, 'ITEM DESCRIPTION'] = le_item_desc.fit_transform(df['ITEM DESCRIPTION'].astype(str))"
   ]
  },
  {
   "cell_type": "markdown",
   "id": "63962c64",
   "metadata": {},
   "source": [
    "# One-Hot Encoding"
   ]
  },
  {
   "cell_type": "code",
   "execution_count": 29,
   "id": "9aa65cb6",
   "metadata": {
    "scrolled": true
   },
   "outputs": [],
   "source": [
    "# 3. One-Hot Encoding untuk ITEM TYPE\n",
    "ohe = OneHotEncoder(drop='first', sparse_output=False)\n",
    "df_item_type = pd.DataFrame(ohe.fit_transform(df[['ITEM TYPE']]),\n",
    "                            columns=ohe.get_feature_names_out())"
   ]
  },
  {
   "cell_type": "code",
   "execution_count": 30,
   "id": "c4cf29e5-7b0c-4cca-bcbc-783f0ad1d31d",
   "metadata": {},
   "outputs": [],
   "source": [
    "# 4. Target Encoding untuk SUPPLIER\n",
    "df['SUPPLIER_ENCODED'] = df['SUPPLIER'].map(df['SUPPLIER'].value_counts(normalize=True))"
   ]
  },
  {
   "cell_type": "code",
   "execution_count": 32,
   "id": "6f176ac5-0f9d-491d-b1cc-e01a608de3a6",
   "metadata": {},
   "outputs": [],
   "source": [
    "# 7. Menghapus Kolom Asli yang Sudah Dienkode\n",
    "df.drop(columns=['ITEM TYPE', 'SUPPLIER'], inplace=True)"
   ]
  },
  {
   "cell_type": "code",
   "execution_count": 33,
   "id": "30060015-b2c8-42a4-99f8-da667d9733b0",
   "metadata": {},
   "outputs": [],
   "source": [
    "# 8. Gabungkan Data setelah Encoding\n",
    "df_final = pd.concat([df, df_item_type], axis=1)"
   ]
  },
  {
   "cell_type": "code",
   "execution_count": 34,
   "id": "5e75c1b8-bb8d-4a78-a64e-c3b3b1d9a0b2",
   "metadata": {},
   "outputs": [
    {
     "name": "stdout",
     "output_type": "stream",
     "text": [
      "\n",
      "Data setelah preprocessing:\n",
      "   YEAR  MONTH ITEM CODE ITEM DESCRIPTION  RETAIL SALES  RETAIL TRANSFERS  \\\n",
      "0  2020      1         3             4504          0.00               0.0   \n",
      "1  2020      1         8            22397          0.00               1.0   \n",
      "2  2020      1        11            27453          0.00               0.0   \n",
      "3  2020      1        13            28185          0.00               0.0   \n",
      "4  2020      1        20            27966          0.82               0.0   \n",
      "\n",
      "   WAREHOUSE SALES  SUPPLIER_ENCODED  ITEM TYPE_DUNNAGE  ITEM TYPE_KEGS  \\\n",
      "0              2.0          0.068787                0.0             0.0   \n",
      "1              4.0          0.009410                0.0             0.0   \n",
      "2              1.0          0.022659                0.0             0.0   \n",
      "3              1.0          0.011718                0.0             0.0   \n",
      "4              0.0          0.013590                0.0             0.0   \n",
      "\n",
      "   ITEM TYPE_LIQUOR  ITEM TYPE_NON-ALCOHOL  ITEM TYPE_REF  \\\n",
      "0               0.0                    0.0            0.0   \n",
      "1               0.0                    0.0            0.0   \n",
      "2               0.0                    0.0            0.0   \n",
      "3               0.0                    0.0            0.0   \n",
      "4               0.0                    0.0            0.0   \n",
      "\n",
      "   ITEM TYPE_STR_SUPPLIES  ITEM TYPE_WINE  ITEM TYPE_Wine  \n",
      "0                     0.0             1.0             0.0  \n",
      "1                     0.0             1.0             0.0  \n",
      "2                     0.0             0.0             0.0  \n",
      "3                     0.0             1.0             0.0  \n",
      "4                     0.0             1.0             0.0  \n"
     ]
    }
   ],
   "source": [
    "print(\"\\nData setelah preprocessing:\")\n",
    "print(df_final.head())"
   ]
  },
  {
   "cell_type": "code",
   "execution_count": 35,
   "id": "f0cce8bb-147b-4aa2-b02a-46bfe74e935b",
   "metadata": {},
   "outputs": [
    {
     "name": "stdout",
     "output_type": "stream",
     "text": [
      "        ITEM TYPE_DUNNAGE  ITEM TYPE_KEGS  ITEM TYPE_LIQUOR  \\\n",
      "0                     0.0             0.0               0.0   \n",
      "1                     0.0             0.0               0.0   \n",
      "3                     0.0             0.0               0.0   \n",
      "4                     0.0             0.0               0.0   \n",
      "5                     0.0             0.0               0.0   \n",
      "...                   ...             ...               ...   \n",
      "307632                0.0             0.0               1.0   \n",
      "307633                0.0             0.0               0.0   \n",
      "307635                0.0             0.0               0.0   \n",
      "307636                0.0             0.0               0.0   \n",
      "307637                0.0             0.0               0.0   \n",
      "\n",
      "        ITEM TYPE_NON-ALCOHOL  ITEM TYPE_REF  ITEM TYPE_STR_SUPPLIES  \\\n",
      "0                         0.0            0.0                     0.0   \n",
      "1                         0.0            0.0                     0.0   \n",
      "3                         0.0            0.0                     0.0   \n",
      "4                         0.0            0.0                     0.0   \n",
      "5                         0.0            0.0                     0.0   \n",
      "...                       ...            ...                     ...   \n",
      "307632                    0.0            0.0                     0.0   \n",
      "307633                    0.0            0.0                     0.0   \n",
      "307635                    0.0            0.0                     0.0   \n",
      "307636                    0.0            0.0                     0.0   \n",
      "307637                    0.0            0.0                     0.0   \n",
      "\n",
      "        ITEM TYPE_WINE  ITEM TYPE_Wine  \n",
      "0                  1.0             0.0  \n",
      "1                  1.0             0.0  \n",
      "3                  1.0             0.0  \n",
      "4                  1.0             0.0  \n",
      "5                  1.0             0.0  \n",
      "...                ...             ...  \n",
      "307632             0.0             0.0  \n",
      "307633             1.0             0.0  \n",
      "307635             1.0             0.0  \n",
      "307636             1.0             0.0  \n",
      "307637             1.0             0.0  \n",
      "\n",
      "[265232 rows x 8 columns]\n"
     ]
    }
   ],
   "source": [
    "# Menampilkan baris yang memiliki setidaknya satu nilai 1.0 di kolom hasil encoding ITEM TYPE\n",
    "df_non_zero_item_type = df_item_type[(df_item_type != 0).any(axis=1)]\n",
    "print(df_non_zero_item_type)"
   ]
  },
  {
   "cell_type": "code",
   "execution_count": 36,
   "id": "896a6f06-74b6-43ce-b2dc-50233568c286",
   "metadata": {},
   "outputs": [
    {
     "name": "stdout",
     "output_type": "stream",
     "text": [
      "Hasil One-Hot Encoding untuk ITEM TYPE:\n",
      "   ITEM TYPE_DUNNAGE  ITEM TYPE_KEGS  ITEM TYPE_LIQUOR  ITEM TYPE_NON-ALCOHOL  \\\n",
      "0                0.0             0.0               0.0                    0.0   \n",
      "1                0.0             0.0               0.0                    0.0   \n",
      "2                0.0             0.0               0.0                    0.0   \n",
      "3                0.0             0.0               0.0                    0.0   \n",
      "4                0.0             0.0               0.0                    0.0   \n",
      "\n",
      "   ITEM TYPE_REF  ITEM TYPE_STR_SUPPLIES  ITEM TYPE_WINE  ITEM TYPE_Wine  \n",
      "0            0.0                     0.0             1.0             0.0  \n",
      "1            0.0                     0.0             1.0             0.0  \n",
      "2            0.0                     0.0             0.0             0.0  \n",
      "3            0.0                     0.0             1.0             0.0  \n",
      "4            0.0                     0.0             1.0             0.0  \n"
     ]
    }
   ],
   "source": [
    "print(\"Hasil One-Hot Encoding untuk ITEM TYPE:\")\n",
    "print(df_item_type.head())  # Menampilkan 5 baris pertama"
   ]
  }
 ],
 "metadata": {
  "kernelspec": {
   "display_name": "Python 3 (ipykernel)",
   "language": "python",
   "name": "python3"
  },
  "language_info": {
   "codemirror_mode": {
    "name": "ipython",
    "version": 3
   },
   "file_extension": ".py",
   "mimetype": "text/x-python",
   "name": "python",
   "nbconvert_exporter": "python",
   "pygments_lexer": "ipython3",
   "version": "3.11.5"
  }
 },
 "nbformat": 4,
 "nbformat_minor": 5
}
