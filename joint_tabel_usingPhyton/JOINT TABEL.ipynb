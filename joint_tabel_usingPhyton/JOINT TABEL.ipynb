{
 "cells": [
  {
   "cell_type": "code",
   "execution_count": 2,
   "id": "d69a55a0-c6b0-43d3-972b-3076d059e997",
   "metadata": {},
   "outputs": [],
   "source": [
    "import pandas as pd\n",
    "\n",
    "# Load dataset utama\n",
    "df = pd.read_csv(\"processed_dataset.csv\")"
   ]
  },
  {
   "cell_type": "code",
   "execution_count": 3,
   "id": "72e568a0-50f8-464f-85fa-838e62c34131",
   "metadata": {},
   "outputs": [],
   "source": [
    "retails = df[[\n",
    "    \"YEAR\", \"MONTH\", \"ITEM CODE\", \"RETAIL SALES\",\n",
    "    \"RETAIL TRANSFERS\", \"WAREHOUSE SALES\", \"SUPPLIER_ENCODED\"\n",
    "]]"
   ]
  },
  {
   "cell_type": "code",
   "execution_count": 4,
   "id": "9fdef6b3-a034-42fa-9c41-7636a008a06c",
   "metadata": {},
   "outputs": [],
   "source": [
    "# Tabel item (deskripsi dan tipe)\n",
    "item_columns = [\"ITEM CODE\", \"ITEM DESCRIPTION\"] + \\\n",
    "    [col for col in df.columns if col.startswith(\"ITEM TYPE_\")]\n",
    "items = df[item_columns].drop_duplicates()\n",
    "\n",
    "# Tabel supplier (jika hanya ada SUPPLIER_ENCODED)\n",
    "suppliers = df[[\"SUPPLIER_ENCODED\"]].drop_duplicates()\n",
    "\n",
    "# Simpan ke file (opsional)\n",
    "retails.to_csv(\"retails.csv\", index=False)\n",
    "items.to_csv(\"items.csv\", index=False)\n",
    "suppliers.to_csv(\"suppliers.csv\", index=False)"
   ]
  },
  {
   "cell_type": "code",
   "execution_count": 5,
   "id": "ba55c35c-cee3-4653-8869-ee0fb5dc5d5b",
   "metadata": {},
   "outputs": [
    {
     "name": "stdout",
     "output_type": "stream",
     "text": [
      "   YEAR  MONTH  ITEM CODE  RETAIL SALES  RETAIL TRANSFERS  WAREHOUSE SALES  \\\n",
      "0  2020      1          3           0.0               0.0              2.0   \n",
      "1  2020      1          8           0.0               1.0              4.0   \n",
      "2  2020      1         11           0.0               0.0              1.0   \n",
      "3  2020      1         11           0.0               0.0              1.0   \n",
      "4  2020      1         13           0.0               0.0              1.0   \n",
      "\n",
      "   SUPPLIER_ENCODED  ITEM DESCRIPTION  ITEM TYPE_DUNNAGE  ITEM TYPE_KEGS  \\\n",
      "0          0.068787              4504                0.0             0.0   \n",
      "1          0.009410             22397                0.0             0.0   \n",
      "2          0.022659             27453                0.0             0.0   \n",
      "3          0.022659             27659                0.0             0.0   \n",
      "4          0.011718             28185                0.0             0.0   \n",
      "\n",
      "   ITEM TYPE_LIQUOR  ITEM TYPE_NON-ALCOHOL  ITEM TYPE_REF  \\\n",
      "0               0.0                    0.0            0.0   \n",
      "1               0.0                    0.0            0.0   \n",
      "2               0.0                    0.0            0.0   \n",
      "3               0.0                    0.0            0.0   \n",
      "4               0.0                    0.0            0.0   \n",
      "\n",
      "   ITEM TYPE_STR_SUPPLIES  ITEM TYPE_WINE  ITEM TYPE_Wine  \n",
      "0                     0.0             1.0             0.0  \n",
      "1                     0.0             1.0             0.0  \n",
      "2                     0.0             0.0             0.0  \n",
      "3                     0.0             0.0             0.0  \n",
      "4                     0.0             1.0             0.0  \n"
     ]
    }
   ],
   "source": [
    "# Load kembali\n",
    "retails = pd.read_csv(\"retails.csv\")\n",
    "items = pd.read_csv(\"items.csv\")\n",
    "suppliers = pd.read_csv(\"suppliers.csv\")\n",
    "\n",
    "# Join dengan items\n",
    "merged_df = retails.merge(items, on=\"ITEM CODE\").merge(suppliers, on=\"SUPPLIER_ENCODED\")\n",
    "\n",
    "# Lihat hasil gabungan\n",
    "print(merged_df.head())\n"
   ]
  },
  {
   "cell_type": "code",
   "execution_count": 6,
   "id": "9827ca06-58aa-4bef-ad5c-809817afc71f",
   "metadata": {},
   "outputs": [],
   "source": [
    "# Simpan hasil join ke CSV\n",
    "merged_df.to_csv(\"retails_full_joined.csv\", index=False)"
   ]
  },
  {
   "cell_type": "code",
   "execution_count": null,
   "id": "5827ebb6-5f72-4782-87e2-3991f1634705",
   "metadata": {},
   "outputs": [],
   "source": []
  }
 ],
 "metadata": {
  "kernelspec": {
   "display_name": "Python 3 (ipykernel)",
   "language": "python",
   "name": "python3"
  },
  "language_info": {
   "codemirror_mode": {
    "name": "ipython",
    "version": 3
   },
   "file_extension": ".py",
   "mimetype": "text/x-python",
   "name": "python",
   "nbconvert_exporter": "python",
   "pygments_lexer": "ipython3",
   "version": "3.11.5"
  }
 },
 "nbformat": 4,
 "nbformat_minor": 5
}
